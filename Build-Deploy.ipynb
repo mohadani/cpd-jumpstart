{
 "cells": [
  {
   "cell_type": "markdown",
   "metadata": {
    "id": "11f11fff-c312-4148-808d-7ae80c239d35"
   },
   "source": [
    "# Imports"
   ]
  },
  {
   "cell_type": "code",
   "execution_count": 1,
   "metadata": {
    "id": "d4b20d28-e27a-4890-8f42-5493612459e1"
   },
   "outputs": [],
   "source": [
    "import pickle\n",
    "import numpy as np\n",
    "import pandas as pd\n",
    "from sklearn import svm\n",
    "from sklearn import datasets"
   ]
  },
  {
   "cell_type": "code",
   "execution_count": 2,
   "metadata": {
    "id": "78c514bc-3061-496b-9ff2-455c4e897a4d"
   },
   "outputs": [
    {
     "name": "stdout",
     "output_type": "stream",
     "text": [
      "------------------------------------  ------------------------  ------------------------\n",
      "ID                                    NAME                      CREATED\n",
      "bc23fa58-70c1-4708-b0d5-a40713f710e2  CPD JumpStart Deployment  2021-12-01T03:48:52.903Z\n",
      "------------------------------------  ------------------------  ------------------------\n"
     ]
    }
   ],
   "source": [
    "from project_lib import Project\n",
    "project = Project.access()\n",
    "\n",
    "import os\n",
    "import requests\n",
    "from ibm_watson_machine_learning import APIClient\n",
    "\n",
    "wml_credentials = {\n",
    "    \"token\": os.environ[\"USER_ACCESS_TOKEN\"],\n",
    "    \"instance_id\" : \"openshift\",\n",
    "    \"url\": \"xxx\",\n",
    "    \"version\": \"3.5\"\n",
    "}\n",
    "\n",
    "client = APIClient(wml_credentials)\n",
    "client.spaces.list(limit=5)\n",
    "SPACE_ID = \"xxx\"\n",
    "PROJECT_ID = \"xxx\""
   ]
  },
  {
   "cell_type": "markdown",
   "metadata": {
    "id": "bfd5e2ce-dcd2-419f-ab0d-fb58419d6f57"
   },
   "source": [
    "# Build model"
   ]
  },
  {
   "cell_type": "code",
   "execution_count": 3,
   "metadata": {
    "id": "112c2d31-9eb0-45aa-a242-33ecfb15bd14"
   },
   "outputs": [],
   "source": [
    "iris = datasets.load_iris()\n",
    "X = pd.DataFrame(iris[\"data\"], columns=iris[\"feature_names\"])\n",
    "y = iris[\"target\"]\n",
    "clf = svm.SVC(kernel=\"linear\", C=0.01).fit(X, y)"
   ]
  },
  {
   "cell_type": "code",
   "execution_count": 4,
   "metadata": {
    "id": "51c2eeaa-56ba-451c-9b3e-ee9673e70f8c"
   },
   "outputs": [],
   "source": [
    "# Give the model a name for example and add a suffix using your first name, last name and 4 random numbers, i.e, (Iris SVM Model_RandyP-8650)\n",
    "MODEL_NAME = \"Iris SVM Model_RandyP-8650\"\n",
    "client.set.default_project(PROJECT_ID)\n",
    "\n",
    "for model in client.repository.get_model_details()[\"resources\"]:\n",
    "    if MODEL_NAME == model[\"metadata\"][\"name\"]:\n",
    "        client.repository.delete(model[\"metadata\"][\"id\"])\n",
    "meta_props = {\n",
    "    client.repository.ModelMetaNames.NAME: MODEL_NAME,\n",
    "    client.repository.ModelMetaNames.TYPE: \"scikit-learn_0.23\",\n",
    "    client.repository.ModelMetaNames.SOFTWARE_SPEC_UID: client.software_specifications.get_uid_by_name(\"default_py3.7_opence\"),\n",
    "}\n",
    "model_details = client.repository.store_model(model=clf, meta_props=meta_props)"
   ]
  },
  {
   "cell_type": "markdown",
   "metadata": {
    "id": "136d17b5-1cbc-4cbd-8415-1d6ec7a10102"
   },
   "source": [
    "# Deploy model"
   ]
  },
  {
   "cell_type": "code",
   "execution_count": null,
   "metadata": {
    "id": "808effad-1348-4f0e-bf8e-02f692d7c0e1"
   },
   "outputs": [],
   "source": [
    "# Give the deployment a name for example and add a suffix using your first name, last name and 4 random numbers, i.e, (Iris SVM Deployment_RandyP-8650)\n",
    "DEPLOYMENT_NAME = \"Iris SVM Deployment_RandyP-8650\"\n",
    "client.set.default_space(SPACE_ID)\n",
    "\n",
    "for deployment in client.deployments.get_details()[\"resources\"]:\n",
    "    if DEPLOYMENT_NAME in deployment[\"metadata\"][\"name\"]:\n",
    "        client.deployments.delete(deployment[\"metadata\"][\"id\"])\n",
    "        \n",
    "for model in client.repository.get_model_details()[\"resources\"]:\n",
    "    if MODEL_NAME == model[\"metadata\"][\"name\"]:\n",
    "        client.repository.delete(model[\"metadata\"][\"id\"])\n",
    "        \n",
    "meta_props = {\n",
    "    client.repository.ModelMetaNames.NAME: MODEL_NAME,\n",
    "    client.repository.ModelMetaNames.TYPE: \"scikit-learn_0.23\",\n",
    "    client.repository.ModelMetaNames.SOFTWARE_SPEC_UID: client.software_specifications.get_uid_by_name(\"default_py3.7_opence\"),\n",
    "}\n",
    "model_details = client.repository.store_model(model=clf, meta_props=meta_props)\n",
    "model_uid = client.repository.get_model_uid(model_details)\n",
    "\n",
    "meta_props = {client.deployments.ConfigurationMetaNames.NAME: DEPLOYMENT_NAME + \"-online\", client.deployments.ConfigurationMetaNames.ONLINE: {}}\n",
    "deployment_details_online = client.deployments.create(model_uid, meta_props=meta_props)\n",
    "\n",
    "meta_props = {\n",
    "    client.deployments.ConfigurationMetaNames.NAME: DEPLOYMENT_NAME + \"-batch\",\n",
    "    client.deployments.ConfigurationMetaNames.BATCH: {},\n",
    "    client.deployments.ConfigurationMetaNames.HARDWARE_SPEC: { \"name\": \"S\", \"num_nodes\": 1 }\n",
    "}\n",
    "deployment_details_batch = client.deployments.create(model_uid, meta_props=meta_props)\n",
    "\n",
    "deployment_uid_online = client.deployments.get_uid(deployment_details_online)\n",
    "deployment_uid_batch = client.deployments.get_uid(deployment_details_batch)"
   ]
  },
  {
   "cell_type": "code",
   "execution_count": 7,
   "metadata": {
    "id": "1cac5726-7f69-475b-813c-6007e7489627"
   },
   "outputs": [
    {
     "name": "stdout",
     "output_type": "stream",
     "text": [
      "------------------------------------  --------------  ------------------------  -----------------\n",
      "ID                                    NAME            CREATED                   TYPE\n",
      "b9989b13-0973-40f5-aba5-96e313eb232c  Iris SVM Model  2021-12-04T18:36:12.002Z  scikit-learn_0.23\n",
      "------------------------------------  --------------  ------------------------  -----------------\n",
      "------------------------------------  --------------------------  ------  ------------------------\n",
      "GUID                                  NAME                        STATE   CREATED\n",
      "ec0fcfdb-23e2-43cb-a14f-94aa3aec9af3  Iris SVM Deployment-online  failed  2021-12-04T18:36:13.190Z\n",
      "------------------------------------  --------------------------  ------  ------------------------\n"
     ]
    }
   ],
   "source": [
    "client.repository.list_models()\n",
    "client.deployments.list()"
   ]
  },
  {
   "cell_type": "markdown",
   "metadata": {
    "id": "0b7c8ca8-5c8c-4f67-8402-d86b5523cc7a"
   },
   "source": [
    "# Score model (online)"
   ]
  },
  {
   "cell_type": "code",
   "execution_count": null,
   "metadata": {
    "id": "9ab18090-3d30-4b2f-bb73-4d3bd66e95a7"
   },
   "outputs": [],
   "source": [
    "payload = {\"input_data\": [{\"values\": X.head().values.tolist(),}]}\n",
    "result = client.deployments.score(deployment_uid_online, payload)\n",
    "result"
   ]
  },
  {
   "cell_type": "markdown",
   "metadata": {
    "id": "18665cdf-3e88-48a8-a417-9c6e186cb11f"
   },
   "source": [
    "# Score model (batch)"
   ]
  },
  {
   "cell_type": "code",
   "execution_count": null,
   "metadata": {
    "id": "5c032cdc-7170-40f1-af3f-d528899ee2a4"
   },
   "outputs": [],
   "source": [
    "def upload_asset(filename):\n",
    "    for asset in client.data_assets.get_details()[\"resources\"]:\n",
    "        if filename in asset[\"metadata\"][\"name\"]:\n",
    "            client.data_assets.delete(asset[\"metadata\"][\"guid\"])\n",
    "    asset_details = client.data_assets.create(name=filename, file_path=filename)\n",
    "    return asset_details\n",
    "\n",
    "input_filename = \"input.csv\"\n",
    "X.to_csv(input_filename, index=False)\n",
    "# project.save_data(\"data.csv\", pd.DataFrame(X).to_csv(index=False))\n",
    "\n",
    "output_uid = upload_asset(output_filename)[\"metadata\"][\"guid\"]\n",
    "input_uid = upload_asset(input_filename)[\"metadata\"][\"guid\"]"
   ]
  },
  {
   "cell_type": "code",
   "execution_count": null,
   "metadata": {
    "id": "0e87e1ad-ff1e-4bd0-8ec3-4646c932ede5"
   },
   "outputs": [],
   "source": [
    "payload = {\n",
    "    client.deployments.ScoringMetaNames.INPUT_DATA_REFERENCES: [\n",
    "        {\n",
    "            \"connection\": {},\n",
    "            \"location\": {\"href\": f\"/v2/assets/{input_uid}?space_id={SPACE_ID}\"},\n",
    "            \"type\": \"data_asset\"\n",
    "        }\n",
    "    ],\n",
    "    client.deployments.ScoringMetaNames.OUTPUT_DATA_REFERENCE: {\n",
    "        \"connection\": {},\n",
    "        \"location\": {\"name\": \"output.csv\"},\n",
    "        \"type\": \"data_asset\"\n",
    "    },\n",
    "}\n",
    "job = client.deployments.create_job(deployment_uid_batch, meta_props=payload)\n",
    "job_uid = client.deployments.get_job_uid(job)\n"
   ]
  },
  {
   "cell_type": "code",
   "execution_count": null,
   "metadata": {
    "id": "190531d5-57f8-4cf7-b3d7-cd6a70d5a0cb"
   },
   "outputs": [],
   "source": [
    "client.deployments.get_job_status(job_uid)\n",
    "print()\n",
    "client.deployments.get_job_details(job_uid)"
   ]
  },
  {
   "cell_type": "code",
   "execution_count": null,
   "metadata": {
    "id": "85ce7563-8aa0-468b-afe1-2b85cd7107f7"
   },
   "outputs": [],
   "source": [
    "asset_dict = { asset[\"metadata\"][\"name\"]: asset[\"metadata\"][\"guid\"] for asset in client.data_assets.get_details()[\"resources\"] }\n",
    "asset_dict"
   ]
  },
  {
   "cell_type": "code",
   "execution_count": null,
   "metadata": {
    "id": "ef4bbc90-b2cf-4910-92de-521b745777a0"
   },
   "outputs": [],
   "source": [
    "client.data_assets.download(asset_dict[\"output.csv\"], \"output.csv\")"
   ]
  }
 ],
 "metadata": {
  "kernelspec": {
   "display_name": "Python 3.7",
   "language": "python",
   "name": "python3"
  },
  "language_info": {
   "codemirror_mode": {
    "name": "ipython",
    "version": 3
   },
   "file_extension": ".py",
   "mimetype": "text/x-python",
   "name": "python",
   "nbconvert_exporter": "python",
   "pygments_lexer": "ipython3",
   "version": "3.7.11"
  }
 },
 "nbformat": 4,
 "nbformat_minor": 4
}
